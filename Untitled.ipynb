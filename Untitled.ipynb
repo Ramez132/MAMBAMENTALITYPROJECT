{
  "nbformat": 4,
  "nbformat_minor": 0,
  "metadata": {
    "colab": {
      "provenance": []
    },
    "kernelspec": {
      "name": "python3",
      "display_name": "Python 3"
    },
    "language_info": {
      "name": "python"
    }
  },
  "cells": [
    {
      "cell_type": "code",
      "execution_count": 2,
      "metadata": {
        "id": "VpwFsmmgdEGS"
      },
      "outputs": [],
      "source": [
        "field_mapping = {\n",
        "    \"Ever had prolonged feelings of sadness or depression\": \"20446-0.0\",# 0,1,-818\n",
        "    \"Ever had prolonged loss of interest in normal activities\": \"20441-0.0\",\n",
        "    \"Recent feelings of depression\": \"20510-0.0\",\n",
        "    \"Recent feelings of inadequacy\": \"20507-0.0\",\n",
        "    \"Recent lack of interest or pleasure in doing things\": \"20514-0.0\",\n",
        "    \"Recent poor appetite or overeating\": \"20511-0.0\",\n",
        "    \"Recent thoughts of suicide or self-harm\": \"20513-0.0\",\n",
        "    \"Recent trouble concentrating on things\": \"20508-0.0\",\n",
        "    \"Lifetime number of depressed periods\": \"20442-0.0\",\n",
        "    \"Age at first episode of depression\": \"20433-0.0\",\n",
        "    \"Age at last episode of depression\": \"20434-0.0\",\n",
        "    \"Duration of worst depression\": \"20438-0.0\",\n",
        "    \"Frequency of depressed days during worst episode of depression\": \"20439-0.0\",\n",
        "    \"Ever felt worried, tense, or anxious for most of a month or longer\": \"20421-0.0\",\n",
        "    \"Frequency of difficulty controlling worry during worst period of anxiety\": \"20537-0.0\",\n",
        "    \"Frequency of inability to stop worrying during worst period of anxiety\": \"20539-0.0\",\n",
        "    \"Longest period spent worried or anxious\": \"20420-0.0\",\n",
        "    \"Recent feelings of foreboding\": \"20512-0.0\",\n",
        "    \"Recent feelings of nervousness or anxiety\": \"20506-0.0\",\n",
        "    \"Recent inability to stop or control worrying\": \"20509-0.0\",\n",
        "    \"Recent restlessness\": \"20516-0.0\",\n",
        "    \"Recent trouble relaxing\": \"20515-0.0\",\n",
        "    \"Recent worrying too much about different things\": \"20520-0.0\",\n",
        "    \"Worried most days during period of worst anxiety\": \"20538-0.0\",\n",
        "    \"Felt very upset when reminded of stressful experience in past month\": \"20498-0.0\",\n",
        "    \"Avoided activities or situations because of previous stressful experience in past month\": \"20495-0.0\",\n",
        "    \"Felt distant from other people in past month\": \"20496-0.0\",\n",
        "    \"Felt irritable or had angry outbursts in past month\": \"20494-0.0\",\n",
        "    \"Ever thought that life not worth living\": \"20479-0.0\",\n",
        "    \"Ever contemplated self-harm\": \"20485-0.0\",\n",
        "    \"Contemplated selfharm in past year\": \"20486-0.0\",\n",
        "    \"Ever selfharmed\": \"20480-0.0\",\n",
        "    \"Self harmed in past year\": \"20481-0.0\",\n",
        "    \"Ever attempted suicide\": \"20483-0.0\",\n",
        "    \"Attempted suicide in past year\": \"20484-0.0\",\n",
        "    \"General happiness\": \"20458-0.0\",\n",
        "    \"General happiness with own health\": \"20459-0.0\",\n",
        "    \"Belief that own life is meaningful\": \"20460-0.0\",\n",
        "    \"Ever had period extreme irritability\": \"20502-0.0\",\n",
        "    \"Ever had period of mania / excitability\": \"20501-0.0\",\n",
        "    \"Longest period of mania or irritability\":\"20492-0.0\",\n",
        "\n",
        "     # Depression\n",
        "    \"Ever had prolonged feelings of sadness or depression\": \"20446-0.0\",\n",
        "    \"Ever had prolonged loss of interest in normal activities\": \"20441-0.0\",\n",
        "    \"Lifetime number of depressed periods lasting 2 weeks or more\": \"20442-0.0\",\n",
        "    \"Age at first episode of depression lasting 2 weeks or more\": \"20433-0.0\",\n",
        "    \"Age at last episode of depression lasting 2 weeks or more\": \"20434-0.0\",\n",
        "    \"Duration of longest period of depression lasting 2 weeks or more\": \"20438-0.0\",\n",
        "    \"Frequency of depressed days during worst episode of depression\": \"20439-0.0\",\n",
        "\n",
        "    # Mania / Excitability\n",
        "    \"Ever had period extreme irritability\": \"20502-0.0\",\n",
        "    \"Ever had period of mania / excitability\": \"20501-0.0\",\n",
        "    \"Longest period of mania or irritability\": \"20492-0.0\",\n",
        "\n",
        "    # Anxiety / Tension\n",
        "    \"Ever felt worried, tense, or anxious for most of a month or longer\": \"20421-0.0\",\n",
        "    \"Longest period spent worried or anxious\": \"20420-0.0\",\n",
        "    \"Frequency of difficulty controlling worry during worst period of anxiety\": \"20537-0.0\",\n",
        "    \"Frequency of inability to stop worrying during worst period of anxiety\": \"20539-0.0\",\n",
        "\n",
        "    # Suicidal Thoughts and Self-harm\n",
        "    \"Ever thought that life not worth living\": \"20479-0.0\",\n",
        "    \"Ever contemplated self-harm\": \"20485-0.0\",\n",
        "    \"Contemplated self-harm in past year\": \"20486-0.0\",\n",
        "    \"Ever self-harmed\": \"20480-0.0\",\n",
        "    \"Self-harmed in past year\": \"20481-0.0\",\n",
        "    \"Ever attempted suicide\": \"20483-0.0\",\n",
        "    \"Attempted suicide in past year\": \"20484-0.0\",\n",
        "\n",
        "    # Happiness and Satisfaction\n",
        "    \"General happiness\": \"20458-0.0\",\n",
        "    \"General happiness with own health\": \"20459-0.0\",\n",
        "    \"Belief that own life is meaningful\": \"20460-0.0\",\n",
        "\n",
        "    # PTSD-like Symptoms\n",
        "    \"Felt very upset when reminded of stressful experience in past month\": \"20498-0.0\",\n",
        "    \"Avoided activities or situations because of previous stressful experience in past month\": \"20495-0.0\",\n",
        "    \"Felt distant from other people in past month\": \"20496-0.0\",\n",
        "    \"Felt irritable or had angry outbursts in past month\": \"20494-0.0\",\n",
        "    \"Past 2 weeks: felt emotionally numb or unable to have loving feelings\": \"20499-0.0\",\n",
        "\n",
        "    # Mental Distress\n",
        "    \"Ever sought or received professional help for mental distress\": \"20499-0.0\",\n",
        "    \"Ever suffered mental distress preventing usual activities\": \"20500-0.0\",\n",
        "    \"Mental health problems ever diagnosed by a professional\": \"20544-0.0\",\n",
        "\n",
        "    # Sleep Patterns\n",
        "    \"Trouble falling asleep\": \"20533-0.0\",\n",
        "    \"Sleeping too much\": \"20534-0.0\",\n",
        "    \"Changes in sleep patterns during depressive or anxious episodes\": \"20517-0.0\",\n",
        "    \"Waking too early\": \"20535-0.0\",\n",
        "    \"Trouble staying asleep\": \"20533-0.0\",\n",
        "\n",
        "    # General Information\n",
        "    \"Physical activity levels\": \"894-0.0\",\n",
        "    \"Age\": \"21022-0.0\",\n",
        "    \"Gender\": \"31-0.0\",\n",
        "    \"Ethnicity\": \"21000-0.0\",\n",
        "    \"Year ended full time education\": \"845-0.0\",\n",
        "    \"Employment status\": \"6142-0.0\",\n",
        "    \"Income levels\": \"738-0.0\",\n",
        "    \"Specific biomarkers relevant to both mental health and cancer risk (e.g., inflammatory markers, hormonal levels)\": \"30710-0.0\",\n",
        "    \"Diagnosed with life-threatening illness\": \"20528-0.0\",\n",
        "    \"History of serious accidents believed to be life-threatening\": \"20526-0.0\",\n",
        "    \"Medical conditions diagnosed by a doctor (e.g., asthma, chronic bronchitis)\": \"6152-0.0\"\n",
        "}"
      ]
    },
    {
      "cell_type": "code",
      "source": [
        "import pandas as pd\n",
        "def load_csv_with_selected_columns(file_path, feature_columns):\n",
        "    # Load the first few rows to inspect the columns\n",
        "    available_columns = pd.read_csv(file_path, nrows=0).columns.tolist()\n",
        "\n",
        "    # Select only the columns that are available in the file\n",
        "    columns_to_load = [col for col in feature_columns if col in available_columns]\n",
        "\n",
        "    # Load the data with the selected columns\n",
        "    return pd.read_csv(file_path, usecols=columns_to_load)"
      ],
      "metadata": {
        "id": "IpZLNUrvdRLg"
      },
      "execution_count": 3,
      "outputs": []
    },
    {
      "cell_type": "code",
      "source": [
        "import ddf.dataframe as dd\n",
        "def load_fields_txt_with_selected_columns(file_path,file_fields, feature_columns):\n",
        "    available_columns=[]\n",
        "    # Load the first few rows to inspect the columns\n",
        "    with open(file_fields,'r') as file:\n",
        "        for line in file:\n",
        "            available_columns.append(line)\n",
        "\n",
        "\n",
        "    # Select only the columns that are available in the file\n",
        "    columns_to_load = [col for col in feature_columns if col in available_columns]\n",
        "\n",
        "    # Load the data with the selected columns\n",
        "    return dd.read_csv(file_path, usecols=columns_to_load)"
      ],
      "metadata": {
        "id": "YDQ4i_lfdSow"
      },
      "execution_count": 4,
      "outputs": []
    },
    {
      "cell_type": "code",
      "source": [
        "field_ids=field_mapping.values()"
      ],
      "metadata": {
        "colab": {
          "base_uri": "https://localhost:8080/",
          "height": 147
        },
        "id": "eF_IfwuJlyyU",
        "outputId": "ecfcde11-c113-4f99-e1b6-19289690dcc4"
      },
      "execution_count": 1,
      "outputs": [
        {
          "output_type": "error",
          "ename": "NameError",
          "evalue": "name 'field_mapping' is not defined",
          "traceback": [
            "\u001b[0;31m---------------------------------------------------------------------------\u001b[0m",
            "\u001b[0;31mNameError\u001b[0m                                 Traceback (most recent call last)",
            "\u001b[0;32m<ipython-input-1-9f773a66760c>\u001b[0m in \u001b[0;36m<cell line: 1>\u001b[0;34m()\u001b[0m\n\u001b[0;32m----> 1\u001b[0;31m \u001b[0mfield_ids\u001b[0m\u001b[0;34m=\u001b[0m\u001b[0mfield_mapping\u001b[0m\u001b[0;34m.\u001b[0m\u001b[0mvalues\u001b[0m\u001b[0;34m(\u001b[0m\u001b[0;34m)\u001b[0m\u001b[0;34m\u001b[0m\u001b[0;34m\u001b[0m\u001b[0m\n\u001b[0m",
            "\u001b[0;31mNameError\u001b[0m: name 'field_mapping' is not defined"
          ]
        }
      ]
    },
    {
      "cell_type": "code",
      "source": [
        "from sklearn.model_selection import train_test_split\n",
        "from sklearn.linear_model import LogisticRegression\n",
        "from sklearn.metrics import accuracy_score, confusion_matrix, classification_report\n",
        "file_path1 = 'biobank/ukb673540.csv'\n",
        "file_path2 = 'biobank/ukb672220.csv'\n",
        "file_path3 = 'biobank/ukb673316.csv'\n",
        "file2_fields=\"biobank/fields672220.ukb\"\n",
        "file3_fields=\"biobank/fields673316.ukb\"\n",
        "\n",
        "# Read CSV with ddf, assuming missing values\n",
        "ddf1 = load_csv_with_selected_columns(file_path1,field_ids)\n",
        "print(\"done!\")\n",
        "\n",
        "ddf2 = load_fields_txt_with_selected_columns(file_path2,file2_fields,field_ids)\n",
        "print(\"done!\")\n",
        "\n",
        "ddf3 = load_fields_txt_with_selected_columns(file_path3,file3_fields,field_ids)\n",
        "print(\"done!\")\n",
        "\n",
        "\n",
        "# # Drop rows where '20446-0.0' has NaN values\n",
        "# df1 = df1.dropna(subset=['20433-0.0'])\n",
        "\n",
        "# # Now, df2 contains only rows where '20446-0.0' is not NaN\n",
        "# print(df1.value_counts())  # Optional: Check the first few rows"
      ],
      "metadata": {
        "id": "0PkYdK6ADw-o"
      },
      "execution_count": null,
      "outputs": []
    },
    {
      "cell_type": "code",
      "source": [
        "ddf=dd.concat([ddf1,ddf2,ddf3])"
      ],
      "metadata": {
        "id": "LgxGQhwaDy9K"
      },
      "execution_count": null,
      "outputs": []
    },
    {
      "cell_type": "markdown",
      "source": [
        "### printing cancer code-self reporeted"
      ],
      "metadata": {
        "id": "yJpXd9LED1R_"
      }
    },
    {
      "cell_type": "code",
      "source": [
        "print(ddf[\"20001-0.0\"].head())"
      ],
      "metadata": {
        "colab": {
          "base_uri": "https://localhost:8080/",
          "height": 147
        },
        "id": "7termXxRD0yz",
        "outputId": "e96ddd15-3a41-4ae2-af9b-366e369cfeba"
      },
      "execution_count": 2,
      "outputs": [
        {
          "output_type": "error",
          "ename": "NameError",
          "evalue": "name 'ddf' is not defined",
          "traceback": [
            "\u001b[0;31m---------------------------------------------------------------------------\u001b[0m",
            "\u001b[0;31mNameError\u001b[0m                                 Traceback (most recent call last)",
            "\u001b[0;32m<ipython-input-2-61b95112408e>\u001b[0m in \u001b[0;36m<cell line: 1>\u001b[0;34m()\u001b[0m\n\u001b[0;32m----> 1\u001b[0;31m \u001b[0mprint\u001b[0m\u001b[0;34m(\u001b[0m\u001b[0mddf\u001b[0m\u001b[0;34m[\u001b[0m\u001b[0;34m\"20001-0.0\"\u001b[0m\u001b[0;34m]\u001b[0m\u001b[0;34m.\u001b[0m\u001b[0mhead\u001b[0m\u001b[0;34m(\u001b[0m\u001b[0;34m)\u001b[0m\u001b[0;34m)\u001b[0m\u001b[0;34m\u001b[0m\u001b[0;34m\u001b[0m\u001b[0m\n\u001b[0m",
            "\u001b[0;31mNameError\u001b[0m: name 'ddf' is not defined"
          ]
        }
      ]
    },
    {
      "cell_type": "markdown",
      "source": [
        "### Creating filtred data by saddnes and depresion"
      ],
      "metadata": {
        "id": "4V2nIgNjD-P2"
      }
    },
    {
      "cell_type": "code",
      "source": [
        "filtered_ddf = ddf[ddf[\"eid\"]&\n",
        "    (ddf[\"20446-0.0\"] == 1) &\n",
        "    (ddf[\"20441-0.0\"] == 1) &\n",
        "    (ddf[\"20510-0.0\"] >= 3) &\n",
        "    (ddf[\"20507-0.0\"] >= 3) &\n",
        "    (ddf[\"20511-0.0\"] >= 3) &\n",
        "    (ddf[\"20513-0.0\"] >= 3) &\n",
        "    (ddf[\"20508-0.0\"] >= 3) &\n",
        "    (ddf[\"20438-0.0\"] >= 4) &\n",
        "    (ddf[\"20439-0.0\"] >= 2) &\n",
        "    (ddf[\"20485-0.0\"] == 2) &\n",
        "    (ddf[\"20483-0.0\"] == 1) &\n",
        "    (ddf[\"20484-0.0\"] == 1) &\n",
        "    (ddf[\"20486-0.0\"] == 1) &\n",
        "    (ddf[\"20480-0.0\"] == 1) &\n",
        "    (ddf[\"20481-0.0\"] == 1)&\n",
        "    (ddf[\"31-0.0\"] == 0 )]\n",
        ""
      ],
      "metadata": {
        "id": "miq2CMsUD6r4"
      },
      "execution_count": null,
      "outputs": []
    },
    {
      "cell_type": "markdown",
      "source": [
        "### Transforming to pandas"
      ],
      "metadata": {
        "id": "2Ozg5vMfEHIt"
      }
    },
    {
      "cell_type": "code",
      "source": [
        "df=filtered_ddf.compute()"
      ],
      "metadata": {
        "id": "dGw29Zy3EKez"
      },
      "execution_count": null,
      "outputs": []
    }
  ]
}